{
 "cells": [
  {
   "cell_type": "code",
   "execution_count": 5,
   "metadata": {},
   "outputs": [],
   "source": [
    "import cv2\n",
    "import imutils\n",
    "image=cv2.imread(\"shapes_and_colors.png\")"
   ]
  },
  {
   "cell_type": "code",
   "execution_count": 6,
   "metadata": {},
   "outputs": [],
   "source": [
    "def detect(c):\n",
    "\t\t# initialize the shape name and approximate the contour\n",
    "        \n",
    "\t\tshape = \"unidentified\"\n",
    "\t\tperi = cv2.arcLength(c, True)\n",
    "\t\tapprox = cv2.approxPolyDP(c, 0.04 * peri, True)\n",
    "        \n",
    "        # if the shape is a triangle, it will have 3 vertices\n",
    "        \n",
    "\t\tif len(approx) == 3:\n",
    "\t\t\tshape = \"triangle\"\n",
    "            \n",
    "\t\t# if the shape has 4 vertices, it is either a square or\n",
    "\t\t# a rectangle\n",
    "\t\telif len(approx) == 4:\n",
    "            \n",
    "\t\t\t# compute the bounding box of the contour and use the\n",
    "\t\t\t# bounding box to compute the aspect ratio\n",
    "            \n",
    "\t\t\t(x, y, w, h) = cv2.boundingRect(approx)\n",
    "\t\t\tar = w / float(h)\n",
    "            \n",
    "\t\t\t# a square will have an aspect ratio that is approximately\n",
    "\t\t\t# equal to one, otherwise, the shape is a rectangle\n",
    "            \n",
    "\t\t\tshape = \"square\" if ar >= 0.95 and ar <= 1.05 else \"rectangle\"\n",
    "            \n",
    "\t\t# if the shape is a pentagon, it will have 5 vertices\n",
    "\t\telif len(approx) == 5:\n",
    "\t\t\tshape = \"pentagon\"\n",
    "            \n",
    "\t\t# otherwise, we assume the shape is a circle\n",
    "\t\telse:\n",
    "\t\t\tshape = \"circle\"\n",
    "\t\t# return the name of the shape\n",
    "\t\treturn shape"
   ]
  },
  {
   "cell_type": "code",
   "execution_count": 7,
   "metadata": {},
   "outputs": [],
   "source": [
    "resized = imutils.resize(image, width=300)\n",
    "ratio = image.shape[0] / float(resized.shape[0])  #to be used later\n",
    "\n",
    "# convert the resized image to grayscale, blur it slightly,\n",
    "# and threshold it\n",
    "gray = cv2.cvtColor(resized, cv2.COLOR_BGR2GRAY)\n",
    "blurred = cv2.GaussianBlur(gray, (5, 5), 0)\n",
    "thresh = cv2.threshold(blurred, 60, 255, cv2.THRESH_BINARY)[1]\n",
    "\n",
    "# find contours in the thresholded image and initialize the\n",
    "# shape detector\n",
    "cnts = cv2.findContours(thresh.copy(), cv2.RETR_EXTERNAL,cv2.CHAIN_APPROX_SIMPLE)\n",
    "cnts = imutils.grab_contours(cnts)"
   ]
  },
  {
   "cell_type": "code",
   "execution_count": 8,
   "metadata": {},
   "outputs": [],
   "source": [
    "for c in cnts:\n",
    "\t# compute the center of the contour, then detect the name of the\n",
    "\t# shape using only the contour\n",
    "\tM = cv2.moments(c)\n",
    "\tcX = int((M[\"m10\"] / M[\"m00\"]) * ratio)  #multiplied by ratio\n",
    "\tcY = int((M[\"m01\"] / M[\"m00\"]) * ratio) #as contours was identified on resized image \n",
    "    \n",
    "\tshape = detect(c)\n",
    "    \n",
    "\t# multiply the contour (x, y)-coordinates by the resize ratio,\n",
    "\t# then draw the contours and the name of the shape on the image\n",
    "\tc = c.astype(\"float\")\n",
    "\tc *= ratio\n",
    "\tc = c.astype(\"int\")\n",
    "    \n",
    "\tcv2.drawContours(image, [c], -1, (0, 255, 0), 2)\n",
    "\tcv2.putText(image, shape, (cX, cY), cv2.FONT_HERSHEY_SIMPLEX,\n",
    "\t\t0.5, (255, 255, 255), 2)\n",
    "    \n",
    "\t# show the output image\n",
    "\tcv2.imshow(\"Image\", image)\n",
    "\tcv2.waitKey(0)\n",
    "cv2.destroyAllWindows()"
   ]
  },
  {
   "cell_type": "code",
   "execution_count": null,
   "metadata": {},
   "outputs": [],
   "source": [
    "#follow the link for more information\n",
    "\n",
    "https://www.pyimagesearch.com/2016/02/15/determining-object-color-with-opencv/"
   ]
  }
 ],
 "metadata": {
  "kernelspec": {
   "display_name": "Python 3",
   "language": "python",
   "name": "python3"
  },
  "language_info": {
   "codemirror_mode": {
    "name": "ipython",
    "version": 3
   },
   "file_extension": ".py",
   "mimetype": "text/x-python",
   "name": "python",
   "nbconvert_exporter": "python",
   "pygments_lexer": "ipython3",
   "version": "3.7.4"
  }
 },
 "nbformat": 4,
 "nbformat_minor": 2
}
