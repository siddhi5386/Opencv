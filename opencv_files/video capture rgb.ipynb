{
 "cells": [
  {
   "cell_type": "code",
   "execution_count": 1,
   "metadata": {},
   "outputs": [],
   "source": [
    "# import the necessary packages\n",
    "from __future__ import print_function\n",
    "from imutils.video import VideoStream\n",
    "import numpy as np\n",
    "import imutils\n",
    "import time\n",
    "import cv2\n"
   ]
  },
  {
   "cell_type": "code",
   "execution_count": 2,
   "metadata": {},
   "outputs": [
    {
     "name": "stdout",
     "output_type": "stream",
     "text": [
      "[INFO] warming up camera...\n"
     ]
    }
   ],
   "source": [
    "# initialize the video stream and allow the camera\n",
    "# sensor to warmup\n",
    "print(\"[INFO] warming up camera...\")\n",
    "vs = VideoStream().start()\n",
    "time.sleep(2.0)\n",
    "\n",
    "# initialize the FourCC, video writer, dimensions of the frame, and zeros array\n",
    "\n",
    "fourcc=cv2.VideoWriter_fourcc('M','J','P','G')\n",
    "#out=cv2.VideoWriter('output.avi',fourcc,25,(640,480))\n",
    "\n",
    "writer = None\n",
    "(h, w) = (None, None)\n",
    "zeros = None"
   ]
  },
  {
   "cell_type": "code",
   "execution_count": 12,
   "metadata": {},
   "outputs": [
    {
     "name": "stdout",
     "output_type": "stream",
     "text": [
      "[INFO] cleaning up...\n"
     ]
    }
   ],
   "source": [
    "# loop over frames from the video stream\n",
    "while True:\n",
    "    \n",
    "\t# grab the frame from the video stream and resize it to have a maximum width of 300 pixels\n",
    "    \n",
    "\tframe = vs.read()\n",
    "\tframe = imutils.resize(frame, width=300)\n",
    "    \n",
    "\t# check if the writer is None\n",
    "    \n",
    "\tif writer is None:\n",
    "        \n",
    "\t\t# store the image dimensions, initialize the video writer,and construct the zeros array\n",
    "        \n",
    "\t\t(h, w) = frame.shape[:2]\n",
    "\t\twriter = cv2.VideoWriter('ball.mp4',fourcc,50,(w*2,h*2))\n",
    "\t\tzeros = np.zeros((h, w), dtype=\"uint8\")\n",
    "        \n",
    "    # break the image into its RGB components, then construct the RGB representation of each frame individually\n",
    "    \n",
    "\t(B, G, R) = cv2.split(frame)\n",
    "\tR = cv2.merge([zeros, zeros, R])\n",
    "\tG = cv2.merge([zeros, G, zeros])\n",
    "\tB = cv2.merge([B, zeros, zeros])\n",
    "    \n",
    "\t# construct the final output frame, storing the original frame at the top-left, the red channel in the top-right, the green\n",
    "\t# channel in the bottom-right, and the blue channel in the bottom-left\n",
    "    \n",
    "\toutput = np.zeros((h * 2, w * 2, 3), dtype=\"uint8\")\n",
    "\toutput[0:h, 0:w] = frame\n",
    "\toutput[0:h, w:w * 2] = R\n",
    "\toutput[h:h * 2, w:w * 2] = G\n",
    "\toutput[h:h * 2, 0:w] = B\n",
    "    \n",
    "\t# write the output frame to file\n",
    "\twriter.write(output)  \n",
    "    \n",
    "    # show the frames\n",
    "    \n",
    "\tcv2.imshow(\"Frame\", frame)\n",
    "\tcv2.imshow(\"Output\", output)\n",
    "\tch = cv2.waitKey(1) \n",
    "    \n",
    "\t# if the `q` key was pressed, break from the loop\n",
    "\tif ch & 0XFF == ord(\"q\"):\n",
    "\t\tbreak\n",
    "        \n",
    "# do a bit of cleanup\n",
    "print(\"[INFO] cleaning up...\")\n",
    "\n",
    "cv2.destroyAllWindows()\n",
    "vs.stop()\n",
    "writer.release()\n",
    "        \n"
   ]
  },
  {
   "cell_type": "code",
   "execution_count": null,
   "metadata": {},
   "outputs": [],
   "source": []
  }
 ],
 "metadata": {
  "kernelspec": {
   "display_name": "Python 3",
   "language": "python",
   "name": "python3"
  },
  "language_info": {
   "codemirror_mode": {
    "name": "ipython",
    "version": 3
   },
   "file_extension": ".py",
   "mimetype": "text/x-python",
   "name": "python",
   "nbconvert_exporter": "python",
   "pygments_lexer": "ipython3",
   "version": "3.7.4"
  }
 },
 "nbformat": 4,
 "nbformat_minor": 2
}
