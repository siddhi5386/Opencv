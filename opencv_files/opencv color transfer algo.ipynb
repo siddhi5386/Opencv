{
 "cells": [
  {
   "cell_type": "code",
   "execution_count": 2,
   "metadata": {},
   "outputs": [],
   "source": [
    "import numpy as np\n",
    "import cv2\n",
    "\n",
    "\n",
    "\n",
    "def image_stats(image):\n",
    "\t# compute the mean and standard deviation of each channel\n",
    "\t(l, a, b) = cv2.split(image)\n",
    "\t(lMean, lStd) = (l.mean(), l.std())\n",
    "\t(aMean, aStd) = (a.mean(), a.std())\n",
    "\t(bMean, bStd) = (b.mean(), b.std())\n",
    "\t# return the color statistics\n",
    "\treturn (lMean, lStd, aMean, aStd, bMean, bStd)\n",
    "\n",
    "#According to the algorithm\n",
    "\n",
    "\n",
    "def color_transfer(source, target):\n",
    "\t# convert the images from the RGB to L*ab* color space, being\n",
    "\t# sure to utilizing the floating point data type (note: OpenCV\n",
    "\t# expects floats to be 32-bit, so use that instead of 64-bit)\n",
    "    \n",
    "\tsource = cv2.cvtColor(source, cv2.COLOR_BGR2LAB).astype(\"float32\")\n",
    "\ttarget = cv2.cvtColor(target, cv2.COLOR_BGR2LAB).astype(\"float32\")\n",
    "    \n",
    "    # compute color statistics for the source and target images\n",
    "    \n",
    "\t(lMeanSrc, lStdSrc, aMeanSrc, aStdSrc, bMeanSrc, bStdSrc) = image_stats(source)\n",
    "\t(lMeanTar, lStdTar, aMeanTar, aStdTar, bMeanTar, bStdTar) = image_stats(target)\n",
    "\t\n",
    "    # subtract the means from the target image\n",
    "\t(l, a, b) = cv2.split(target)\n",
    "\tl -= lMeanTar\n",
    "\ta -= aMeanTar\n",
    "\tb -= bMeanTar\n",
    "    \n",
    "\t# scale by the standard deviations\n",
    "\tl = (lStdTar / lStdSrc) * l\n",
    "\ta = (aStdTar / aStdSrc) * a\n",
    "\tb = (bStdTar / bStdSrc) * b\n",
    "    \n",
    "\t# add in the source mean\n",
    "\tl += lMeanSrc\n",
    "\ta += aMeanSrc\n",
    "\tb += bMeanSrc\n",
    "    \n",
    "\t# clip the pixel intensities to [0, 255] if they fall outside\n",
    "\t# this range\n",
    "    \n",
    "\tl = np.clip(l, 0, 255)\n",
    "\ta = np.clip(a, 0, 255)\n",
    "\tb = np.clip(b, 0, 255)\n",
    "    \n",
    "\t# merge the channels together and convert back to the RGB color\n",
    "\t# space, being sure to utilize the 8-bit unsigned integer data\n",
    "\t# type\n",
    "\ttransfer = cv2.merge([l, a, b])\n",
    "\ttransfer = cv2.cvtColor(transfer.astype(\"uint8\"), cv2.COLOR_LAB2BGR)\n",
    "\t\n",
    "\t# return the color transferred image\n",
    "\treturn transfer"
   ]
  },
  {
   "cell_type": "code",
   "execution_count": 11,
   "metadata": {},
   "outputs": [],
   "source": [
    "source=cv2.imread(\"panorama-beautiful-green-forest-summer-nature-scenery-yellow-wild-flowers-panorama-beautiful-green-forest-landscape-131579660.jpg\")\n",
    "target=cv2.imread(\"siddhi photo.jpg\")\n",
    "\n",
    "cv2.imshow(\"source\",source[300:360,700:780])\n",
    "cv2.imshow(\"target\",target)\n",
    "\n",
    "transfer=color_transfer(source[20:160,600:780], target)\n",
    "cv2.imshow(\"transfered\",transfer)\n",
    "cv2.waitKey(0)\n",
    "cv2.destroyAllWindows()"
   ]
  },
  {
   "cell_type": "code",
   "execution_count": 9,
   "metadata": {},
   "outputs": [
    {
     "data": {
      "text/plain": [
       "(370, 800, 3)"
      ]
     },
     "execution_count": 9,
     "metadata": {},
     "output_type": "execute_result"
    }
   ],
   "source": [
    "source.shape"
   ]
  }
 ],
 "metadata": {
  "kernelspec": {
   "display_name": "Python 3",
   "language": "python",
   "name": "python3"
  },
  "language_info": {
   "codemirror_mode": {
    "name": "ipython",
    "version": 3
   },
   "file_extension": ".py",
   "mimetype": "text/x-python",
   "name": "python",
   "nbconvert_exporter": "python",
   "pygments_lexer": "ipython3",
   "version": "3.7.4"
  }
 },
 "nbformat": 4,
 "nbformat_minor": 2
}
