{
 "cells": [
  {
   "cell_type": "code",
   "execution_count": 7,
   "metadata": {},
   "outputs": [],
   "source": [
    "import numpy as np\n",
    "import cv2"
   ]
  },
  {
   "cell_type": "code",
   "execution_count": 4,
   "metadata": {},
   "outputs": [],
   "source": [
    "bw=cv2.imread(\"obj.jpeg\",0)\n",
    "height,width=bw.shape[0:2]"
   ]
  },
  {
   "cell_type": "code",
   "execution_count": 5,
   "metadata": {},
   "outputs": [],
   "source": [
    "cv2.imshow(\"orig\",bw)\n",
    "binary=np.zeros([height,width,1],'uint8')\n",
    "thres=100\n",
    "\n",
    "for row in range(0,height):\n",
    "    for col in range(0,width):\n",
    "        if bw[row][col]>thres:\n",
    "            binary[row][col]=255\n",
    "\n",
    "cv2.imshow(\"slow b\",binary)\n",
    "\n",
    "ret,thresh=cv2.threshold(bw,thres,255,cv2.THRESH_BINARY)\n",
    "cv2.imshow(\"cv thres\",thresh)\n",
    "\n",
    "thresh_adapt=cv2.adaptiveThreshold(bw,255,cv2.ADAPTIVE_THRESH_GAUSSIAN_C,cv2.THRESH_BINARY,115,1)\n",
    "cv2.imshow(\"adapt\",thresh_adapt)\n",
    "\n",
    "cv2.waitKey(0)\n",
    "cv2.destroyAllWindows()"
   ]
  },
  {
   "cell_type": "code",
   "execution_count": 9,
   "metadata": {},
   "outputs": [
    {
     "data": {
      "text/plain": [
       "-1"
      ]
     },
     "execution_count": 9,
     "metadata": {},
     "output_type": "execute_result"
    }
   ],
   "source": [
    "faces=cv2.imread(\"faces.png\",1)\n",
    "hsv=cv2.cvtColor(faces,cv2.COLOR_BGR2HSV)\n",
    "h=hsv[:,:,0]\n",
    "s=hsv[:,:,1]\n",
    "v=hsv[:,:,2]\n",
    "\n",
    "hsv_s=np.concatenate((h,s,v),axis=1)\n",
    "cv2.imshow(\"split hsv\",hsv_s)\n",
    "\n",
    "cv2.waitKey(0)\n"
   ]
  },
  {
   "cell_type": "code",
   "execution_count": 16,
   "metadata": {},
   "outputs": [
    {
     "data": {
      "text/plain": [
       "-1"
      ]
     },
     "execution_count": 16,
     "metadata": {},
     "output_type": "execute_result"
    }
   ],
   "source": [
    "ret,min_sat=cv2.threshold(s,70,255,cv2.THRESH_BINARY)\n",
    "cv2.imshow(\"sat\",min_sat)\n",
    "\n",
    "ret,max_hue=cv2.threshold(h,40,255,cv2.THRESH_BINARY_INV)\n",
    "cv2.imshow(\"hue\",max_hue)\n",
    "\n",
    "final=cv2.bitwise_and(min_sat,max_hue)\n",
    "cv2.imshow(\"final\",final)\n",
    "\n",
    "cv2.imshow(\"orig\",faces)\n",
    "\n",
    "cv2.waitKey(0)"
   ]
  },
  {
   "cell_type": "code",
   "execution_count": 20,
   "metadata": {},
   "outputs": [
    {
     "data": {
      "text/plain": [
       "-1"
      ]
     },
     "execution_count": 20,
     "metadata": {},
     "output_type": "execute_result"
    }
   ],
   "source": [
    "img=cv2.imread(\"obj.jpeg\",1)\n",
    "gray=cv2.cvtColor(img,cv2.COLOR_RGB2GRAY)\n",
    "thresh=cv2.adaptiveThreshold(bw,255,cv2.ADAPTIVE_THRESH_GAUSSIAN_C,cv2.THRESH_BINARY,115,1)\n",
    "cv2.imshow(\"adapt\",thresh)\n",
    "\n",
    "contours,hierarchy=cv2.findContours(thresh,cv2.RETR_TREE,cv2.CHAIN_APPROX_SIMPLE)\n",
    "\n",
    "img2=img.copy()\n",
    "cv2.drawContours(img2,contours,-1,(255,0,255),4)\n",
    "\n",
    "cv2.imshow(\"contours\",img2)\n",
    "\n",
    "cv2.waitKey(0)"
   ]
  },
  {
   "cell_type": "code",
   "execution_count": 6,
   "metadata": {},
   "outputs": [
    {
     "name": "stdout",
     "output_type": "stream",
     "text": [
      "area:347278.0,perimeter:2515.4558436870575\n",
      "area:8986.5,perimeter:451.1787178516388\n",
      "area:10229.5,perimeter:401.7371520996094\n",
      "area:11017.5,perimeter:493.88939011096954\n",
      "area:8119.0,perimeter:360.3919161558151\n",
      "area:11970.0,perimeter:434.96045541763306\n",
      "area:308.0,perimeter:65.94112455844879\n",
      "area:7768.0,perimeter:511.65685415267944\n",
      "area:4182.5,perimeter:366.69343161582947\n",
      "area:2297.0,perimeter:209.42135381698608\n",
      "area:9802.0,perimeter:388.04877042770386\n",
      "area:6653.0,perimeter:381.22034335136414\n",
      "area:13047.0,perimeter:426.96045887470245\n",
      "area:607.0,perimeter:91.59797859191895\n",
      "area:13265.0,perimeter:646.0975406169891\n",
      "area:3719.0,perimeter:241.65685415267944\n",
      "area:15374.0,perimeter:493.65685415267944\n",
      "area:528.0,perimeter:86.62741661071777\n",
      "area:4.0,perimeter:7.656854152679443\n",
      "area:2.0,perimeter:5.656854152679443\n",
      "area:2.0,perimeter:5.656854152679443\n",
      "area:40.0,perimeter:39.9411244392395\n",
      "area:83.5,perimeter:61.899494767189026\n",
      "area:2.0,perimeter:5.656854152679443\n",
      "area:2.0,perimeter:5.656854152679443\n",
      "area:4.0,perimeter:7.656854152679443\n",
      "area:2.0,perimeter:5.656854152679443\n",
      "area:5.5,perimeter:9.071067690849304\n",
      "area:18056.5,perimeter:3691.1543279886246\n",
      "area:0.0,perimeter:2.0\n",
      "area:0.0,perimeter:0.0\n",
      "area:0.0,perimeter:0.0\n",
      "area:0.0,perimeter:0.0\n",
      "area:0.0,perimeter:4.0\n",
      "area:0.0,perimeter:12.0\n",
      "area:0.0,perimeter:0.0\n",
      "area:0.0,perimeter:4.0\n",
      "area:0.0,perimeter:0.0\n",
      "area:0.0,perimeter:2.8284270763397217\n",
      "area:30.0,perimeter:22.0\n",
      "area:18.5,perimeter:27.899494767189026\n",
      "area:7.0,perimeter:9.656854152679443\n",
      "area:28.5,perimeter:31.899494767189026\n",
      "area:13.0,perimeter:13.656854152679443\n",
      "area:18.5,perimeter:27.899494767189026\n",
      "area:5.5,perimeter:9.071067690849304\n",
      "area:19.5,perimeter:51.071067690849304\n",
      "area:18.5,perimeter:27.899494767189026\n",
      "area:5.5,perimeter:9.071067690849304\n",
      "area:12.5,perimeter:32.24264061450958\n",
      "area:6.0,perimeter:14.0\n",
      "area:28.5,perimeter:31.899494767189026\n",
      "area:13.0,perimeter:13.656854152679443\n",
      "area:6.0,perimeter:14.0\n",
      "area:8.0,perimeter:16.82842707633972\n",
      "area:9.0,perimeter:20.0\n",
      "area:9.0,perimeter:20.0\n",
      "area:1.0,perimeter:4.0\n",
      "area:1.0,perimeter:4.0\n",
      "area:55.0,perimeter:27.313708305358887\n",
      "area:37.0,perimeter:23.313708305358887\n",
      "area:130.0,perimeter:46.0\n",
      "area:8.0,perimeter:11.656854152679443\n",
      "area:51.5,perimeter:29.899494767189026\n",
      "area:81.0,perimeter:86.76955199241638\n",
      "area:2.0,perimeter:5.656854152679443\n",
      "area:2.0,perimeter:5.656854152679443\n",
      "area:2.0,perimeter:5.656854152679443\n",
      "area:2.0,perimeter:5.656854152679443\n",
      "area:4.0,perimeter:7.656854152679443\n",
      "area:6.0,perimeter:9.656854152679443\n",
      "area:2.0,perimeter:5.656854152679443\n",
      "area:2.0,perimeter:5.656854152679443\n",
      "area:10.5,perimeter:13.899494767189026\n",
      "area:6.0,perimeter:9.656854152679443\n"
     ]
    },
    {
     "data": {
      "text/plain": [
       "-1"
      ]
     },
     "execution_count": 6,
     "metadata": {},
     "output_type": "execute_result"
    }
   ],
   "source": [
    "# area perimeter center and curvature\n",
    "\n",
    "img=cv2.imread(\"obj.jpeg\",1)\n",
    "gray=cv2.cvtColor(img,cv2.COLOR_RGB2GRAY)\n",
    "thresh=cv2.adaptiveThreshold(bw,255,cv2.ADAPTIVE_THRESH_GAUSSIAN_C,cv2.THRESH_BINARY,115,1)\n",
    "cv2.imshow(\"adapt\",thresh)\n",
    "\n",
    "contours,hierarchy=cv2.findContours(thresh,cv2.RETR_TREE,cv2.CHAIN_APPROX_SIMPLE)\n",
    "\n",
    "img2=img.copy()\n",
    "\n",
    "objects=np.zeros([img.shape[0],img.shape[1],3],'uint8')\n",
    "\n",
    "#for capturing indiv contours\n",
    "\n",
    "for c in contours:\n",
    "    cv2.drawContours(objects,[c],-1,(255,0,255),-1)\n",
    "    \n",
    "    area=cv2.contourArea(c)\n",
    "    perimeter=cv2.arcLength(c,True) #true as we want it for full circles\n",
    "    \n",
    "    #for centroid points in the exact middle\n",
    "    M=cv2.moments(c)\n",
    "    cx=int(M['m10']/M['m00'])\n",
    "    cy=int(M['m01']/M['m00'])\n",
    "    cv2.circle(objects,(cx,cy),4,(0,0,255),-1)\n",
    "    \n",
    "    print(\"area:{},perimeter:{}\".format(area,perimeter))\n",
    "\n",
    "\n",
    "cv2.imshow(\"contours\",objects)\n",
    "\n",
    "cv2.waitKey(0)"
   ]
  },
  {
   "cell_type": "code",
   "execution_count": 11,
   "metadata": {},
   "outputs": [
    {
     "data": {
      "text/plain": [
       "-1"
      ]
     },
     "execution_count": 11,
     "metadata": {},
     "output_type": "execute_result"
    }
   ],
   "source": [
    "t=cv2.imread(\"grow-tomatoes.jpg\")\n",
    "hsv=cv2.cvtColor(t,cv2.COLOR_BGR2HSV)\n",
    "\n",
    "res,thresh=cv2.threshold(hsv[:,:,0],25,255,cv2.THRESH_BINARY_INV)\n",
    "cv2.imshow(\"thresh\",thresh)\n",
    "\n",
    "edges=cv2.Canny(t,100,70)\n",
    "cv2.imshow(\"edges\",edges)\n",
    "\n",
    "cv2.waitKey(0)"
   ]
  },
  {
   "cell_type": "code",
   "execution_count": null,
   "metadata": {},
   "outputs": [],
   "source": []
  }
 ],
 "metadata": {
  "kernelspec": {
   "display_name": "Python 3",
   "language": "python",
   "name": "python3"
  },
  "language_info": {
   "codemirror_mode": {
    "name": "ipython",
    "version": 3
   },
   "file_extension": ".py",
   "mimetype": "text/x-python",
   "name": "python",
   "nbconvert_exporter": "python",
   "pygments_lexer": "ipython3",
   "version": "3.7.4"
  }
 },
 "nbformat": 4,
 "nbformat_minor": 2
}
