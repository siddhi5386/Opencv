{
 "cells": [
  {
   "cell_type": "code",
   "execution_count": 12,
   "metadata": {},
   "outputs": [],
   "source": [
    "import numpy as np\n",
    "import cv2"
   ]
  },
  {
   "cell_type": "code",
   "execution_count": 13,
   "metadata": {},
   "outputs": [],
   "source": [
    "#global variables\n",
    "canvas=np.ones([500,500,3],'uint8')*255\n",
    "radius=3\n",
    "color=(0,255,0)\n",
    "pressed= False  #to know the current state of event..whether the mouse is pressed or not\n"
   ]
  },
  {
   "cell_type": "code",
   "execution_count": 14,
   "metadata": {},
   "outputs": [],
   "source": [
    "#callback fuctions for various events\n",
    "\n",
    "def click(event,x,y,flags,param):\n",
    "    global canvas,pressed\n",
    "    if event==cv2.EVENT_LBUTTONDOWN:\n",
    "        pressed= True\n",
    "        cv2.circle(canvas,(x,y),radius,color,-1)\n",
    "    elif event==cv2.EVENT_MOUSEMOVE and pressed==True: \n",
    "        #only work when mouse is pressed and moved\n",
    "        cv2.circle(canvas,(x,y),radius,color,-1)\n",
    "    elif event==cv2.EVENT_LBUTTONUP:\n",
    "        pressed= False\n",
    "        "
   ]
  },
  {
   "cell_type": "code",
   "execution_count": 15,
   "metadata": {},
   "outputs": [],
   "source": [
    "#window initializations\n",
    "cv2.namedWindow(\"canvas\")\n",
    "cv2.setMouseCallback(\"canvas\",click)\n",
    "\n",
    "# loop for drawing forever\n",
    "while True:\n",
    "    cv2.imshow(\"canvas\",canvas)\n",
    "    ch=cv2.waitKey(1)\n",
    "    if ch & 0xFF == ord('e'):\n",
    "        break\n",
    "    elif ch & 0xFF==ord('b'):\n",
    "        color=(255,0,0)\n",
    "    elif ch & 0xFF==ord('r'):\n",
    "        color=(0,0,255)\n",
    "    elif ch & 0xFF==ord('g'):\n",
    "        color=(255,0,0)\n",
    "    \n",
    "        \n",
    "cv2.destroyAllWindows()"
   ]
  },
  {
   "cell_type": "code",
   "execution_count": null,
   "metadata": {},
   "outputs": [],
   "source": []
  },
  {
   "cell_type": "code",
   "execution_count": null,
   "metadata": {},
   "outputs": [],
   "source": []
  }
 ],
 "metadata": {
  "kernelspec": {
   "display_name": "Python 3",
   "language": "python",
   "name": "python3"
  },
  "language_info": {
   "codemirror_mode": {
    "name": "ipython",
    "version": 3
   },
   "file_extension": ".py",
   "mimetype": "text/x-python",
   "name": "python",
   "nbconvert_exporter": "python",
   "pygments_lexer": "ipython3",
   "version": "3.7.4"
  }
 },
 "nbformat": 4,
 "nbformat_minor": 2
}
