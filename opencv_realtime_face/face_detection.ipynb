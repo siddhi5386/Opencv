{
 "cells": [
  {
   "cell_type": "code",
   "execution_count": 1,
   "metadata": {},
   "outputs": [],
   "source": [
    "import cv2\n",
    "import numpy"
   ]
  },
  {
   "cell_type": "code",
   "execution_count": 2,
   "metadata": {},
   "outputs": [],
   "source": [
    "cap=cv2.VideoCapture(0)\n",
    "\n",
    "path=\"haarcascade_frontalface_default.xml\"\n",
    "face_cascade=cv2.CascadeClassifier(path)\n",
    "\n",
    "path1=\"haarcascade_eye.xml\"\n",
    "eye_cascade=cv2.CascadeClassifier(path1)\n",
    "\n",
    "#path2=\"C:\\\\Users\\\\HP\\\\Documents\\\\haarcascade_smile.xml\"\n",
    "#smile_cascade=cv2.CascadeClassifier(path2)\n",
    "\n",
    "cv2.namedWindow(\"frame\")\n",
    "\n",
    "while(True):\n",
    "    ret,frame=cap.read()   \n",
    "    \n",
    "    gray=cv2.cvtColor(frame,cv2.COLOR_BGR2GRAY)\n",
    "    \n",
    "    faces=face_cascade.detectMultiScale(gray,scaleFactor=1.05,minNeighbors=5,minSize=(40,40))\n",
    "    \n",
    "    for (x,y,w,h) in faces:\n",
    "        cv2.rectangle(frame,(x,y),(x+w,y+h),(0,255,0),2)\n",
    "    \n",
    "    eyes=eye_cascade.detectMultiScale(gray,scaleFactor=1.02,minNeighbors=5,minSize=(5,5))\n",
    "    \n",
    "    for (x,y,w,h) in eyes:\n",
    "        xc=(x+ x+w)/2\n",
    "        yc=(y+ y+h)/2\n",
    "        radius=w/2 #or h/2\n",
    "        cv2.circle(frame, (int(xc),int(yc)),int(radius),(255,0,0),2)\n",
    "        \n",
    "    #mysmile=smile_cascade.detectMultiScale(gray,scaleFactor=1.02,minNeighbors=5,minSize=(8,8))\n",
    "    \n",
    "    #for (x,y,w,h) in mysmile:\n",
    "        #cv2.rectangle(frame,(x,y),(x+w,y+h),(0,0,255),2)\n",
    "\n",
    "    cv2.imshow(\"frame\",frame)\n",
    "    \n",
    "    ch=cv2.waitKey(1)\n",
    "    if ch & 0xFF==ord('q'):\n",
    "        break\n",
    "\n",
    "cap.release()\n",
    "cv2.destroyAllWindows()"
   ]
  },
  {
   "cell_type": "code",
   "execution_count": null,
   "metadata": {},
   "outputs": [],
   "source": []
  }
 ],
 "metadata": {
  "kernelspec": {
   "display_name": "Python 3",
   "language": "python",
   "name": "python3"
  },
  "language_info": {
   "codemirror_mode": {
    "name": "ipython",
    "version": 3
   },
   "file_extension": ".py",
   "mimetype": "text/x-python",
   "name": "python",
   "nbconvert_exporter": "python",
   "pygments_lexer": "ipython3",
   "version": "3.7.4"
  }
 },
 "nbformat": 4,
 "nbformat_minor": 2
}
